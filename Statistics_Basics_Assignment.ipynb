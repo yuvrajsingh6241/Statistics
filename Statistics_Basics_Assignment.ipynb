{
 "cells": [
  {
   "cell_type": "markdown",
   "id": "bb3d6f3f",
   "metadata": {},
   "source": [
    "### Question 1: What is the difference between descriptive statistics and inferential statistics? Explain with examples."
   ]
  },
  {
   "cell_type": "markdown",
   "id": "7aa695dc",
   "metadata": {},
   "source": [
    "**Answer:**\n",
    "Statistics is divided into two branches: **Descriptive Statistics** and **Inferential Statistics**.\n",
    "\n",
    "**1. Descriptive Statistics**\n",
    "- Summarize and describe dataset features.\n",
    "- Tools: mean, median, mode, standard deviation, tables, graphs.\n",
    "\n",
    "*Example:* Teacher calculates the average marks of 50 students. Mean = 65.\n",
    "\n",
    "**2. Inferential Statistics**\n",
    "- Draw conclusions about population using sample data.\n",
    "- Tools: probability, hypothesis testing, regression.\n",
    "\n",
    "*Example:* Researcher samples 100 students from 1000 to estimate school average marks as ~70."
   ]
  },
  {
   "cell_type": "markdown",
   "id": "0276b3b2",
   "metadata": {},
   "source": [
    "### Question 2: What is sampling in statistics? Explain random vs stratified sampling."
   ]
  },
  {
   "cell_type": "markdown",
   "id": "ab987281",
   "metadata": {},
   "source": [
    "**Answer:**\n",
    "- **Sampling**: Selecting a subset of population for analysis.\n",
    "\n",
    "**Random Sampling**:\n",
    "- Every member has equal chance.\n",
    "- Example: Randomly choose 100 students from 1000.\n",
    "\n",
    "**Stratified Sampling**:\n",
    "- Divide population into strata, sample proportionally.\n",
    "- Example: From 60% boys & 40% girls, select 60 boys & 40 girls."
   ]
  },
  {
   "cell_type": "markdown",
   "id": "e58c421c",
   "metadata": {},
   "source": [
    "### Question 3: Define mean, median, mode. Importance of these measures."
   ]
  },
  {
   "cell_type": "markdown",
   "id": "4b4cdb02",
   "metadata": {},
   "source": [
    "**Answer:**\n",
    "- **Mean**: Average of all values.\n",
    "- **Median**: Middle value when data sorted.\n",
    "- **Mode**: Most frequent value.\n",
    "\n",
    "**Importance**:\n",
    "- Mean: overall average.\n",
    "- Median: robust against outliers.\n",
    "- Mode: useful for categorical data."
   ]
  },
  {
   "cell_type": "markdown",
   "id": "8eb4cfb8",
   "metadata": {},
   "source": [
    "### Question 4: Explain skewness and kurtosis. What does a positive skew imply?"
   ]
  },
  {
   "cell_type": "markdown",
   "id": "cb4cb4e3",
   "metadata": {},
   "source": [
    "**Answer:**\n",
    "- **Skewness**: Asymmetry of distribution.\n",
    "  - Positive skew: long right tail (Mean > Median > Mode).\n",
    "  - Negative skew: long left tail.\n",
    "\n",
    "- **Kurtosis**: Peakedness of distribution.\n",
    "  - Mesokurtic: normal (~3).\n",
    "  - Leptokurtic: more peaked (>3).\n",
    "  - Platykurtic: flatter (<3).\n",
    "\n",
    "**Positive skew implication**: Most values low, few extreme high values pull mean right. Example: income distribution."
   ]
  },
  {
   "cell_type": "markdown",
   "id": "4045dfdc",
   "metadata": {},
   "source": [
    "### Question 5: Python program to compute mean, median, mode"
   ]
  },
  {
   "cell_type": "code",
   "execution_count": null,
   "id": "5a2689d7",
   "metadata": {},
   "outputs": [],
   "source": [
    "import statistics\n",
    "\n",
    "# Given list\n",
    "numbers = [12, 15, 12, 18, 19, 12, 20, 22, 19, 19, 24, 24, 24, 26, 28]\n",
    "\n",
    "# Compute mean, median, mode\n",
    "mean_value = statistics.mean(numbers)\n",
    "median_value = statistics.median(numbers)\n",
    "mode_value = statistics.mode(numbers)\n",
    "\n",
    "print(\"Numbers:\", numbers)\n",
    "print(\"Mean:\", mean_value)\n",
    "print(\"Median:\", median_value)\n",
    "print(\"Mode:\", mode_value)"
   ]
  },
  {
   "cell_type": "markdown",
   "id": "92d99c83",
   "metadata": {},
   "source": [
    "### Question 6: Compute covariance and correlation coefficient between two datasets"
   ]
  },
  {
   "cell_type": "code",
   "execution_count": null,
   "id": "512b87c9",
   "metadata": {},
   "outputs": [],
   "source": [
    "import numpy as np\n",
    "\n",
    "list_x = [10, 20, 30, 40, 50]\n",
    "list_y = [15, 25, 35, 45, 60]\n",
    "\n",
    "x = np.array(list_x)\n",
    "y = np.array(list_y)\n",
    "\n",
    "# Covariance\n",
    "cov_matrix = np.cov(x, y, bias=True)\n",
    "cov_xy = cov_matrix[0][1]\n",
    "\n",
    "# Correlation\n",
    "corr_xy = np.corrcoef(x, y)[0][1]\n",
    "\n",
    "print(\"List X:\", list_x)\n",
    "print(\"List Y:\", list_y)\n",
    "print(\"Covariance:\", cov_xy)\n",
    "print(\"Correlation Coefficient:\", corr_xy)"
   ]
  },
  {
   "cell_type": "markdown",
   "id": "fb210728",
   "metadata": {},
   "source": [
    "### Question 7: Python script to draw a boxplot and identify outliers"
   ]
  },
  {
   "cell_type": "code",
   "execution_count": null,
   "id": "04010cbf",
   "metadata": {},
   "outputs": [],
   "source": [
    "import matplotlib.pyplot as plt\n",
    "\n",
    "data = [12, 14, 14, 15, 18, 19, 19, 21, 22, 22, 23, 23, 24, 26, 29, 35]\n",
    "\n",
    "plt.boxplot(data, vert=True, patch_artist=True)\n",
    "plt.title(\"Boxplot of Data\")\n",
    "plt.ylabel(\"Values\")\n",
    "plt.show()\n",
    "\n",
    "# Outlier detection using IQR\n",
    "Q1 = np.percentile(data, 25)\n",
    "Q3 = np.percentile(data, 75)\n",
    "IQR = Q3 - Q1\n",
    "\n",
    "lower_bound = Q1 - 1.5 * IQR\n",
    "upper_bound = Q3 + 1.5 * IQR\n",
    "\n",
    "outliers = [x for x in data if x < lower_bound or x > upper_bound]\n",
    "\n",
    "print(\"Q1:\", Q1, \"Q3:\", Q3, \"IQR:\", IQR)\n",
    "print(\"Lower Bound:\", lower_bound, \"Upper Bound:\", upper_bound)\n",
    "print(\"Outliers:\", outliers)"
   ]
  },
  {
   "cell_type": "markdown",
   "id": "415cbb77",
   "metadata": {},
   "source": [
    "### Question 8: Relationship between advertising spend and daily sales using covariance & correlation"
   ]
  },
  {
   "cell_type": "code",
   "execution_count": null,
   "id": "c871e8de",
   "metadata": {},
   "outputs": [],
   "source": [
    "advertising_spend = [200, 250, 300, 400, 500]\n",
    "daily_sales = [2200, 2450, 2750, 3200, 4000]\n",
    "\n",
    "x = np.array(advertising_spend)\n",
    "y = np.array(daily_sales)\n",
    "\n",
    "cov_xy = np.cov(x, y, bias=True)[0][1]\n",
    "corr_xy = np.corrcoef(x, y)[0][1]\n",
    "\n",
    "print(\"Advertising Spend:\", advertising_spend)\n",
    "print(\"Daily Sales:\", daily_sales)\n",
    "print(\"Covariance:\", cov_xy)\n",
    "print(\"Correlation Coefficient:\", corr_xy)"
   ]
  },
  {
   "cell_type": "markdown",
   "id": "9761d373",
   "metadata": {},
   "source": [
    "### Question 9: Survey scores distribution - summary stats & histogram"
   ]
  },
  {
   "cell_type": "code",
   "execution_count": null,
   "id": "2c9a443b",
   "metadata": {},
   "outputs": [],
   "source": [
    "survey_scores = [7, 8, 5, 9, 6, 7, 8, 9, 10, 4, 7, 6, 9, 8, 7]\n",
    "\n",
    "mean_score = statistics.mean(survey_scores)\n",
    "median_score = statistics.median(survey_scores)\n",
    "mode_score = statistics.mode(survey_scores)\n",
    "std_dev = statistics.stdev(survey_scores)\n",
    "\n",
    "print(\"Mean:\", mean_score)\n",
    "print(\"Median:\", median_score)\n",
    "print(\"Mode:\", mode_score)\n",
    "print(\"Standard Deviation:\", std_dev)\n",
    "\n",
    "plt.hist(survey_scores, bins=7, edgecolor='black', color='skyblue')\n",
    "plt.title(\"Histogram of Customer Satisfaction Scores\")\n",
    "plt.xlabel(\"Survey Scores\")\n",
    "plt.ylabel(\"Frequency\")\n",
    "plt.xticks(range(1, 11))\n",
    "plt.show()"
   ]
  }
 ],
 "metadata": {},
 "nbformat": 4,
 "nbformat_minor": 5
}