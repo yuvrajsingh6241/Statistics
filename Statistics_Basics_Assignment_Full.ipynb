{
 "cells": [
  {
   "cell_type": "markdown",
   "id": "4cec20ff",
   "metadata": {},
   "source": [
    "### Question 1: What is the difference between descriptive statistics and inferential statistics? Explain with examples."
   ]
  },
  {
   "cell_type": "markdown",
   "id": "6a286a26",
   "metadata": {},
   "source": [
    "**Answer:**\n",
    "\n",
    "Statistics is the science of collecting, analyzing, and interpreting data. It is mainly divided into two branches: Descriptive Statistics and Inferential Statistics. Both are important, but they serve different purposes in data analysis.\n",
    "\n",
    "**1. Descriptive Statistics**  \n",
    "Descriptive statistics are methods used to summarize and describe the important features of a dataset. It does not go beyond the available data; instead, it presents information in a clear and simplified form using numerical measures and visualizations. Common tools include mean, median, mode, standard deviation, tables, graphs, and charts.\n",
    "\n",
    "*Example:* A teacher calculates the average marks of 50 students in her class. She finds that the mean is 65, the highest is 95, and the lowest is 30. This is descriptive statistics because it only explains the data of those 50 students.\n",
    "\n",
    "**2. Inferential Statistics**  \n",
    "Inferential statistics are techniques that allow us to make conclusions, predictions, or generalizations about a large population based on a sample. It uses probability theory, hypothesis testing, confidence intervals, and regression analysis.\n",
    "\n",
    "*Example:* A researcher wants to know the average marks of 1000 students in a school. Instead of checking all students, he takes a sample of 100 students and finds their mean as 70. He then concludes that the average marks of the whole school are approximately 70. This is inferential statistics, as predictions are made from sample to population."
   ]
  },
  {
   "cell_type": "markdown",
   "id": "aacec9f7",
   "metadata": {},
   "source": [
    "### Question 2: What is sampling in statistics? Explain the differences between random and stratified sampling."
   ]
  },
  {
   "cell_type": "markdown",
   "id": "25c97ff5",
   "metadata": {},
   "source": [
    "**Answer:**\n",
    "\n",
    "In statistics, sampling is the process of selecting a subset of individuals or observations from a larger group called the population. Since studying the entire population is often costly, time-consuming, or impossible, researchers collect data from a smaller group (sample) and use it to draw conclusions about the population.\n",
    "\n",
    "**1. Random Sampling**  \n",
    "- **Definition:** Random sampling is a method where each member of the population has an equal chance of being selected.  \n",
    "- **Process:** Names or numbers are selected using lottery method, random number tables, or computer-generated randomization.  \n",
    "- **Advantage:** Eliminates bias and ensures fairness.  \n",
    "- **Example:** Choosing 100 students randomly from a list of 1,000 students using a random number generator.  \n",
    "\n",
    "**2. Stratified Sampling**  \n",
    "- **Definition:** Stratified sampling divides the population into subgroups (called strata) based on common characteristics like age, gender, or income, and then samples are taken from each stratum.  \n",
    "- **Process:** Population → divided into homogeneous groups → random samples taken proportionally.  \n",
    "- **Advantage:** Ensures better representation of all categories, reduces sampling error.  \n",
    "- **Example:** A school has 60% boys and 40% girls. To select 100 students, researcher takes 60 boys and 40 girls randomly instead of selecting only random students without considering gender."
   ]
  },
  {
   "cell_type": "markdown",
   "id": "62cd8cc2",
   "metadata": {},
   "source": [
    "### Question 3: Define mean, median, and mode. Explain why these measures of central tendency are important."
   ]
  },
  {
   "cell_type": "markdown",
   "id": "50179279",
   "metadata": {},
   "source": [
    "**Answer:**\n",
    "\n",
    "**1. Mean**  \n",
    "The mean (also called average) is obtained by adding all the values in a dataset and dividing by the total number of values.  \n",
    "\n",
    "*Formula:*  \n",
    "Mean = (Sum of all observations) ÷ (Number of observations)  \n",
    "\n",
    "*Example:* Marks of 5 students = 10, 20, 30, 40, 50.  \n",
    "Mean = (10 + 20 + 30 + 40 + 50) ÷ 5 = 30.  \n",
    "\n",
    "**2. Median**  \n",
    "The median is the middle value of the dataset when arranged in ascending or descending order. If there is an even number of values, the median is the average of the two middle values.  \n",
    "\n",
    "*Example:* Data = 15, 20, 25, 30, 35. Median = 25 (middle value).  \n",
    "If data = 10, 20, 30, 40 → Median = (20+30)/2 = 25.  \n",
    "\n",
    "**3. Mode**  \n",
    "The mode is the value that occurs most frequently in a dataset. A dataset can have one mode, more than one mode, or no mode at all.  \n",
    "\n",
    "*Example:* Data = 5, 7, 7, 8, 10, 7, 12 → Mode = 7 (most repeated value).  \n",
    "\n",
    "**4. Importance of Mean, Median, and Mode**  \n",
    "- These are called measures of central tendency, because they represent the \"center\" or average behavior of the data.  \n",
    "- Mean gives an overall average, useful in comparing performances.  \n",
    "- Median is helpful when data has extreme values (outliers), as it is not affected by them.  \n",
    "- Mode is useful in categorical data analysis (e.g., the most popular product, most common marks).  \n",
    "- Together, they help in understanding, summarizing, and interpreting large datasets in research, economics, business, and everyday life."
   ]
  },
  {
   "cell_type": "markdown",
   "id": "bb755901",
   "metadata": {},
   "source": [
    "### Question 4: Explain skewness and kurtosis. What does a positive skew imply about the data?"
   ]
  },
  {
   "cell_type": "markdown",
   "id": "d1768453",
   "metadata": {},
   "source": [
    "**Answer:**\n",
    "\n",
    "**1. Skewness**  \n",
    "Skewness refers to the degree of asymmetry in the distribution of data values around the mean.  \n",
    "- If data is symmetrical, skewness = 0.  \n",
    "- If data is positively skewed, the tail of the distribution is longer on the right side.  \n",
    "- If data is negatively skewed, the tail is longer on the left side.  \n",
    "\n",
    "*Example:*  \n",
    "- Heights of people often follow a near-symmetric distribution (low skew).  \n",
    "- Income distribution is usually positively skewed, because a few very rich people pull the average upward.  \n",
    "\n",
    "**2. Kurtosis**  \n",
    "Kurtosis refers to the degree of peakedness or flatness of a data distribution compared to a normal distribution.  \n",
    "- **Mesokurtic:** Normal bell-shaped distribution (kurtosis ≈ 3).  \n",
    "- **Leptokurtic:** More peaked than normal, with heavy tails (kurtosis > 3).  \n",
    "- **Platykurtic:** Flatter than normal, with light tails (kurtosis < 3).  \n",
    "\n",
    "*Example:*  \n",
    "- Exam scores that are tightly clustered around the mean → leptokurtic.  \n",
    "- Uniformly spread marks → platykurtic.  \n",
    "\n",
    "**3. Positive Skew and Its Implication**  \n",
    "A positive skew means the distribution has a longer right tail. Most of the data values lie to the left (lower values), while a few very high values pull the mean to the right.  \n",
    "\n",
    "- In a positively skewed distribution: Mean > Median > Mode  \n",
    "- Implication: Most individuals have relatively low values, but a small number of individuals have very high values.  \n",
    "*Example:* Income distribution in a country: most people earn low-to-average salaries, but a few billionaires create a long right tail."
   ]
  },
  {
   "cell_type": "markdown",
   "id": "f1c1e378",
   "metadata": {},
   "source": [
    "### Question 5: Implement a Python program to compute the mean, median, and mode of a given list of numbers."
   ]
  },
  {
   "cell_type": "code",
   "execution_count": null,
   "id": "852add62",
   "metadata": {},
   "outputs": [],
   "source": [
    "# Python program to compute Mean, Median and Mode\n",
    "\n",
    "import statistics\n",
    "\n",
    "# Given list of numbers\n",
    "numbers = [12, 15, 12, 18, 19, 12, 20, 22, 19, 19, 24, 24, 24, 26, 28]\n",
    "\n",
    "# Calculating Mean, Median, and Mode\n",
    "mean_value = statistics.mean(numbers)\n",
    "median_value = statistics.median(numbers)\n",
    "mode_value = statistics.mode(numbers)\n",
    "\n",
    "# Printing the results\n",
    "print(\"Numbers:\", numbers)\n",
    "print(\"Mean:\", mean_value)\n",
    "print(\"Median:\", median_value)\n",
    "print(\"Mode:\", mode_value)"
   ]
  },
  {
   "cell_type": "markdown",
   "id": "f2d7a01a",
   "metadata": {},
   "source": [
    "### Question 6: Compute the covariance and correlation coefficient between the following two datasets provided as lists in Python."
   ]
  },
  {
   "cell_type": "code",
   "execution_count": null,
   "id": "dcad0153",
   "metadata": {},
   "outputs": [],
   "source": [
    "# Python program to compute Covariance and Correlation\n",
    "\n",
    "import numpy as np\n",
    "\n",
    "# Given datasets\n",
    "list_x = [10, 20, 30, 40, 50]\n",
    "list_y = [15, 25, 35, 45, 60]\n",
    "\n",
    "# Convert to numpy arrays\n",
    "x = np.array(list_x)\n",
    "y = np.array(list_y)\n",
    "\n",
    "# Compute Covariance matrix\n",
    "cov_matrix = np.cov(x, y, bias=True)  # bias=True gives population covariance\n",
    "cov_xy = cov_matrix[0][1]\n",
    "\n",
    "# Compute Correlation coefficient\n",
    "corr_xy = np.corrcoef(x, y)[0][1]\n",
    "\n",
    "# Print results\n",
    "print(\"List X:\", list_x)\n",
    "print(\"List Y:\", list_y)\n",
    "print(\"Covariance:\", cov_xy)\n",
    "print(\"Correlation Coefficient:\", corr_xy)"
   ]
  },
  {
   "cell_type": "markdown",
   "id": "9e588792",
   "metadata": {},
   "source": [
    "### Question 7: Write a Python script to draw a boxplot for the following numeric list and identify its outliers. Explain the result."
   ]
  },
  {
   "cell_type": "code",
   "execution_count": null,
   "id": "1fbac46e",
   "metadata": {},
   "outputs": [],
   "source": [
    "# Python program to draw a boxplot and identify outliers\n",
    "\n",
    "import matplotlib.pyplot as plt\n",
    "\n",
    "# Given dataset\n",
    "data = [12, 14, 14, 15, 18, 19, 19, 21, 22, 22, 23, 23, 24, 26, 29, 35]\n",
    "\n",
    "# Create a boxplot\n",
    "plt.boxplot(data, vert=True, patch_artist=True)\n",
    "plt.title(\"Boxplot of Data\")\n",
    "plt.ylabel(\"Values\")\n",
    "plt.show()\n",
    "\n",
    "# Identifying outliers using IQR\n",
    "Q1 = np.percentile(data, 25)\n",
    "Q3 = np.percentile(data, 75)\n",
    "IQR = Q3 - Q1\n",
    "\n",
    "lower_bound = Q1 - 1.5 * IQR\n",
    "upper_bound = Q3 + 1.5 * IQR\n",
    "\n",
    "outliers = [x for x in data if x < lower_bound or x > upper_bound]\n",
    "\n",
    "print(\"Data:\", data)\n",
    "print(\"Q1 (25th percentile):\", Q1)\n",
    "print(\"Q3 (75th percentile):\", Q3)\n",
    "print(\"IQR:\", IQR)\n",
    "print(\"Lower Bound:\", lower_bound)\n",
    "print(\"Upper Bound:\", upper_bound)\n",
    "print(\"Outliers:\", outliers)"
   ]
  },
  {
   "cell_type": "markdown",
   "id": "1e5a265c",
   "metadata": {},
   "source": [
    "### Question 8: You are working as a data analyst in an e-commerce company. The marketing team wants to know if there is a relationship between advertising spend and daily sales."
   ]
  },
  {
   "cell_type": "markdown",
   "id": "72bae709",
   "metadata": {},
   "source": [
    "**Answer:**\n",
    "\n",
    "1. **Using Covariance and Correlation**  \n",
    "- Covariance measures how two variables move together.  \n",
    "  - Positive covariance → both variables increase together.  \n",
    "  - Negative covariance → one increases while the other decreases.  \n",
    "  - Limitation: Covariance value depends on scale, hard to interpret magnitude.  \n",
    "\n",
    "- Correlation coefficient measures strength and direction of linear relationship between two variables.  \n",
    "  - Value ranges from -1 to +1.  \n",
    "  - +1 → perfect positive correlation, 0 → no correlation, -1 → perfect negative correlation.  \n",
    "\n",
    "**Application:** For the marketing team, we can compute covariance and correlation between advertising_spend and daily_sales to see if increasing ad spend actually increases sales, and how strong the relationship is."
   ]
  },
  {
   "cell_type": "code",
   "execution_count": null,
   "id": "ce18297f",
   "metadata": {},
   "outputs": [],
   "source": [
    "# Python program to compute correlation\n",
    "\n",
    "# Given datasets\n",
    "advertising_spend = [200, 250, 300, 400, 500]\n",
    "daily_sales = [2200, 2450, 2750, 3200, 4000]\n",
    "\n",
    "# Convert to numpy arrays\n",
    "x = np.array(advertising_spend)\n",
    "y = np.array(daily_sales)\n",
    "\n",
    "# Compute covariance\n",
    "cov_xy = np.cov(x, y, bias=True)[0][1]\n",
    "\n",
    "# Compute correlation coefficient\n",
    "corr_xy = np.corrcoef(x, y)[0][1]\n",
    "\n",
    "# Print results\n",
    "print(\"Advertising Spend:\", advertising_spend)\n",
    "print(\"Daily Sales:\", daily_sales)\n",
    "print(\"Covariance:\", cov_xy)\n",
    "print(\"Correlation Coefficient:\", corr_xy)"
   ]
  },
  {
   "cell_type": "markdown",
   "id": "ac1251c8",
   "metadata": {},
   "source": [
    "### Question 9: Your team has collected customer satisfaction survey data on a scale of 1-10 and wants to understand its distribution before launching a new product."
   ]
  },
  {
   "cell_type": "markdown",
   "id": "9781a5a9",
   "metadata": {},
   "source": [
    "**Answer:**\n",
    "\n",
    "1. **Summary Statistics to Use**  \n",
    "- **Mean (Average):** Shows overall average score.  \n",
    "- **Median:** Middle value when scores arranged in order. Useful if there are outliers.  \n",
    "- **Mode:** Most frequent score.  \n",
    "- **Standard Deviation:** Measures spread of scores around mean.  \n",
    "- **Range, Minimum, Maximum:** Spread of scores from lowest to highest.  \n",
    "\n",
    "2. **Visualization to Use**  \n",
    "- **Histogram:** Plots frequency of each score, helps identify patterns, clusters, skewness.  \n",
    "- **Boxplot (optional):** Visualizes median, quartiles, and possible outliers."
   ]
  },
  {
   "cell_type": "code",
   "execution_count": null,
   "id": "ed35d0a2",
   "metadata": {},
   "outputs": [],
   "source": [
    "import matplotlib.pyplot as plt\n",
    "import statistics\n",
    "\n",
    "# Given survey scores\n",
    "survey_scores = [7, 8, 5, 9, 6, 7, 8, 9, 10, 4, 7, 6, 9, 8, 7]\n",
    "\n",
    "# Summary statistics\n",
    "mean_score = statistics.mean(survey_scores)\n",
    "median_score = statistics.median(survey_scores)\n",
    "mode_score = statistics.mode(survey_scores)\n",
    "std_dev = statistics.stdev(survey_scores)\n",
    "\n",
    "print(\"Mean:\", mean_score)\n",
    "print(\"Median:\", median_score)\n",
    "print(\"Mode:\", mode_score)\n",
    "print(\"Standard Deviation:\", std_dev)\n",
    "\n",
    "# Create histogram\n",
    "plt.hist(survey_scores, bins=7, edgecolor='black', color='skyblue')\n",
    "plt.title(\"Histogram of Customer Satisfaction Scores\")\n",
    "plt.xlabel(\"Survey Scores\")\n",
    "plt.ylabel(\"Frequency\")\n",
    "plt.xticks(range(1, 11))\n",
    "plt.show()"
   ]
  }
 ],
 "metadata": {},
 "nbformat": 4,
 "nbformat_minor": 5
}